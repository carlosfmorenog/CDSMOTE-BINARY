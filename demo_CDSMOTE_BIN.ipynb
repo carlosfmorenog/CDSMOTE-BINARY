{
  "cells": [
    {
      "cell_type": "markdown",
      "metadata": {
        "id": "view-in-github",
        "colab_type": "text"
      },
      "source": [
        "<a href=\"https://colab.research.google.com/github/carlosfmorenog/CDSMOTE-BINARY/blob/master/demo_CDSMOTE_BIN.ipynb\" target=\"_parent\"><img src=\"https://colab.research.google.com/assets/colab-badge.svg\" alt=\"Open In Colab\"/></a>"
      ]
    },
    {
      "cell_type": "markdown",
      "metadata": {
        "id": "5j9FD2SkIQ2E"
      },
      "source": [
        "# CDSMOTE: Class Decomposition and Oversampling for Binary Imbalanced-Data Classification"
      ]
    },
    {
      "cell_type": "markdown",
      "metadata": {
        "id": "dLgdx8VRIQ2S"
      },
      "source": [
        "## Please reference the following paper:\n",
        "    \n",
        "Elyan E., Moreno-Garcia C.F., Jayne C., CDSMOTE: class decomposition and synthetic minority class oversampling technique for imbalanced-data classification. Neural Comput Appl. 2020. <a href=\"https://doi.org/10.1007/s00521-020-05130-z\">10.1007/s00521-020-05130-z</a>\n",
        "\n",
        "### Bibtex Citation\n",
        "@article{Elyan2020,\n",
        "author = {Elyan, Eyad and Moreno-Garcia, Carlos Francisco and Jayne, Chrisina},\n",
        "doi = {10.1007/s00521-020-05130-z},\n",
        "isbn = {0123456789},\n",
        "issn = {1433-3058},\n",
        "journal = {Neural Computing and Applications},\n",
        "publisher = {Springer London},\n",
        "title = {{CDSMOTE: class decomposition and synthetic minority class oversampling technique for imbalanced-data classification}},\n",
        "url = {https://doi.org/10.1007/s00521-020-05130-z},\n",
        "year = {2020}\n",
        "}\n",
        "\n"
      ]
    },
    {
      "cell_type": "markdown",
      "metadata": {
        "id": "pFoHV-IaIQ2g"
      },
      "source": [
        "## Importing the necessary modules"
      ]
    },
    {
      "cell_type": "code",
      "execution_count": null,
      "metadata": {
        "id": "wUIzi5AjIQ2l"
      },
      "outputs": [],
      "source": [
        "import sys\n",
        "import clustData\n",
        "import computeKVs\n",
        "import numpy as np\n",
        "import csv\n",
        "import math\n",
        "import pandas as pd\n",
        "import seaborn as sns\n",
        "import matplotlib.pyplot as plt\n",
        "from imblearn.over_sampling import SMOTE\n",
        "from imblearn.over_sampling import ADASYN\n",
        "from sklearn.model_selection import StratifiedShuffleSplit\n",
        "from sklearn import svm"
      ]
    },
    {
      "cell_type": "markdown",
      "metadata": {
        "id": "77YmNYwoIQ2u"
      },
      "source": [
        "## Input parameters"
      ]
    },
    {
      "cell_type": "code",
      "execution_count": null,
      "metadata": {
        "id": "4jV8ttgYIQ2y"
      },
      "outputs": [],
      "source": [
        "dataset = 'C15' # name of the dataset to use. C1-31 are binary datasets presented in Cleofas-Sanchez et al. 2016\n",
        "classdecomp = 'Kmeans' # 'FCmeans', 'FCmeansOptimised' and 'DBSCAN' also available \n",
        "oversampler = 'SMOTE' #'ADASYN' also available\n",
        "threshold = 10 # if samples in positive class are apart from average by more than this value, apply oversampling (Sec 3.2 paper)\n",
        "k_type = 'fixed' # Indicates how to calculate k values for class decomposition\n",
        "n_clusters = 4 # used in the \"fixed\" k_type option\n",
        "number_of_tests = 5 # How many times to repeat the SVM experiment comparing the original and new db"
      ]
    },
    {
      "cell_type": "markdown",
      "metadata": {
        "id": "lXz4_6xkIQ26"
      },
      "source": [
        "## Load Dataset"
      ]
    },
    {
      "cell_type": "code",
      "execution_count": null,
      "metadata": {
        "id": "nsXulAJ5IQ2-"
      },
      "outputs": [],
      "source": [
        "## 1. Load dataset\n",
        "with open('data//'+str(dataset)+'.csv', 'r', newline='', encoding='utf-8') as f:\n",
        "    reader = csv.reader(f)\n",
        "    data = []\n",
        "    target = []\n",
        "    for row in reader:\n",
        "        data.append(list(map(float,row[0:len(row)-1])))\n",
        "        target.append(row[-1])\n",
        "del row, reader, f\n",
        "\n",
        "majority_class = max(set(target), key=target.count)\n",
        "minority_class = min(set(target), key=target.count)"
      ]
    },
    {
      "cell_type": "markdown",
      "metadata": {
        "id": "7mQNfuywIQ3F"
      },
      "source": [
        "## Plotting the original dataset"
      ]
    },
    {
      "cell_type": "code",
      "execution_count": null,
      "metadata": {
        "id": "8AR55rGuIQ3N",
        "outputId": "cc2c9422-029a-4c11-93cc-49dcc19cbb91"
      },
      "outputs": [
        {
          "name": "stdout",
          "output_type": "stream",
          "text": [
            "Dataset: C15\n",
            "      Class  Number of Samples\n",
            "0  negative                183\n",
            "1  positive                 20\n",
            "Total samples: 203\n",
            "Imbalance Ratio (IR): 9.15\n",
            "\n",
            "Showing class distribution bar chart...\n"
          ]
        },
        {
          "data": {
            "image/png": "[encoded data removed]",
            "text/plain": [
              "<Figure size 720x432 with 1 Axes>"
            ]
          },
          "metadata": {
            "needs_background": "light"
          },
          "output_type": "display_data"
        }
      ],
      "source": [
        "%matplotlib inline\n",
        "## 3. Plot distribution of original dataset\n",
        "print('Dataset: '+str(dataset))\n",
        "histo = [['Class','Number of Samples']]\n",
        "for i, label1 in enumerate(sorted(list(set(target)))):\n",
        "    cont = 0\n",
        "    for j, label2 in enumerate(target):\n",
        "        if label1 == label2:\n",
        "            cont+=1\n",
        "    histo.append([label1,cont])\n",
        "histo.append(['Total Samples', len(target)])\n",
        "## Save the histogram as a .csv file   \n",
        "with open('results/originaldb_classdistribution.csv', 'w', newline='', encoding='utf-8') as csvfile:\n",
        "    filewriter = csv.writer(csvfile, delimiter=',')\n",
        "    for i, hist in enumerate(histo):\n",
        "        filewriter.writerow(hist)\n",
        "## Load as a panda\n",
        "histo_panda = pd.DataFrame.from_records(histo[1:-1], columns=histo[0])\n",
        "print(histo_panda)\n",
        "print('Total samples: '+str(len(target)))\n",
        "## Find IR\n",
        "majority_samples = histo_panda.loc[histo_panda['Class'] == majority_class].reset_index()\n",
        "minority_samples = histo_panda.loc[histo_panda['Class'] == minority_class].reset_index()\n",
        "IR = majority_samples['Number of Samples'][0]/minority_samples['Number of Samples'][0]\n",
        "print('Imbalance Ratio (IR): '+str(IR))\n",
        "## Create a histogram using seaborn\n",
        "\n",
        "sns_plot = sns.barplot(x=\"Class\", y=\"Number of Samples\", data=histo_panda)\n",
        "## Save the image\n",
        "sns_plot.figure.set_size_inches(10, 6)\n",
        "sns_plot.figure.savefig('results/originaldb_barchart'+'.jpg', orientation = 'landscape', dpi = 600)\n",
        "print('\\nShowing class distribution bar chart...')\n",
        "plt.show()"
      ]
    },
    {
      "cell_type": "markdown",
      "metadata": {
        "id": "83csQ_VOIQ3U"
      },
      "source": [
        "## Applying class decomposition"
      ]
    },
    {
      "cell_type": "code",
      "execution_count": null,
      "metadata": {
        "id": "42LiJE_OIQ3Z",
        "outputId": "345f9bf1-0ffb-4e91-db58-6c33bc845710"
      },
      "outputs": [
        {
          "name": "stdout",
          "output_type": "stream",
          "text": [
            "\n",
            "Class decomposition by applying k-means...\n",
            "Number of clusters for class negative: 4\n",
            "No clustering performed for class positive.\n"
          ]
        }
      ],
      "source": [
        "## 1.  Calculate k vector (for class decomposition)\n",
        "if k_type.lower() == 'fixed':\n",
        "    k = computeKVs.majority(data, target, n_clusters)\n",
        "elif k_type.lower() == 'ir':\n",
        "    ## Calculate the IR between the majority and the minority\n",
        "    n_clusters = math.ceil(IR) \n",
        "    k = computeKVs.majority(data, target, n_clusters)\n",
        "else:\n",
        "    print('Invalid option for k_type')\n",
        "    sys.exit()\n",
        "\n",
        "## 2. Cluster the data\n",
        "if classdecomp.lower()=='kmeans':\n",
        "    target_cd = clustData.Kmeans(data, target, k)\n",
        "elif classdecomp.lower()=='fcmeans':\n",
        "    target_cd = clustData.FCmeans(data, target, k)\n",
        "elif classdecomp.lower()=='fcmeansoptimised':\n",
        "     target_cd = clustData.FCmeansOptimised(data, target, k, max_nclusters = 10)   \n",
        "elif classdecomp.lower()=='dbscan':        \n",
        "     target_cd = clustData.DBSCAN(data, target, k, eps=0.5, min_samples=5)\n",
        "else:\n",
        "    print('Invalid class decomposition algorithm.')\n",
        "    sys.exit()"
      ]
    },
    {
      "cell_type": "markdown",
      "metadata": {
        "id": "HEGe6WtfIQ3d"
      },
      "source": [
        "## Plotting the decomposed datasets"
      ]
    },
    {
      "cell_type": "code",
      "execution_count": null,
      "metadata": {
        "id": "misFkmIGIQ3f",
        "outputId": "44bdd08b-094a-489d-f1bb-9330bbeeb1f9"
      },
      "outputs": [
        {
          "name": "stdout",
          "output_type": "stream",
          "text": [
            "         Class  Number of Samples\n",
            "0  negative_c0                 68\n",
            "1  negative_c1                 78\n",
            "2  negative_c2                 10\n",
            "3  negative_c3                 27\n",
            "4  positive_c0                 20\n",
            "Total samples: 203\n",
            "Average number of samples per class: 40.6\n",
            "\n",
            "Showing class distribution bar chart...\n"
          ]
        },
        {
          "data": {
            "image/png": "[encoded data removed]",
            "text/plain": [
              "<Figure size 720x432 with 1 Axes>"
            ]
          },
          "metadata": {
            "needs_background": "light"
          },
          "output_type": "display_data"
        }
      ],
      "source": [
        "histo = [['Class','Number of Samples']]\n",
        "for i, label1 in enumerate(sorted(list(set(target_cd)))):\n",
        "    cont = 0\n",
        "    for j, label2 in enumerate(target_cd):\n",
        "        if label1 == label2:\n",
        "            cont+=1\n",
        "    histo.append([label1,cont])\n",
        "histo.append(['Total Samples', len(target_cd)])\n",
        "## Save the histogram as a .csv file   \n",
        "with open('results/decomposeddb_classdistribution.csv', 'w', newline='', encoding='utf-8') as csvfile:\n",
        "    filewriter = csv.writer(csvfile, delimiter=',')\n",
        "    for i, hist in enumerate(histo):\n",
        "        filewriter.writerow(hist)\n",
        "## Load as a panda\n",
        "histo_panda = pd.DataFrame.from_records(histo[1:-1], columns=histo[0])\n",
        "print(histo_panda)\n",
        "print('Total samples: '+str(len(target_cd)))\n",
        "## Create a histogram using seaborn\n",
        "sns_plot = sns.barplot(x=\"Class\", y=\"Number of Samples\", data=histo_panda)\n",
        "## draw a line depicting the average\n",
        "indexesUnique = list(set(target_cd))\n",
        "indexesUnique.sort()\n",
        "cdclassdist_count = []\n",
        "cdclassdist_names = []\n",
        "for cdclass in indexesUnique:\n",
        "     cdclassdist_count.append(target_cd.count(cdclass))\n",
        "     cdclassdist_names.append(cdclass)\n",
        "average = sum(cdclassdist_count)/len(cdclassdist_count)\n",
        "print('Average number of samples per class:', average)\n",
        "plt.axhline(average, color='red')\n",
        "## Save the image\n",
        "sns_plot.figure.set_size_inches(10, 6)\n",
        "sns_plot.figure.savefig('results/decomposeddb_barchart'+'.jpg', orientation = 'landscape', dpi = 600)\n",
        "print('\\nShowing class distribution bar chart...')\n",
        "plt.show()"
      ]
    },
    {
      "cell_type": "markdown",
      "metadata": {
        "id": "Ic_Xh1SHIQ3j"
      },
      "source": [
        "## Applying oversampling to the minority class w.r.t. the sub-class of the majority class closest to the average (red line). If the minority class is closer to the average than the `threshold`, then this step is skipped."
      ]
    },
    {
      "cell_type": "code",
      "execution_count": null,
      "metadata": {
        "id": "hWT__y4yIQ3l",
        "outputId": "6a823b92-1386-435e-fce0-4ad8ddfdaae2"
      },
      "outputs": [
        {
          "name": "stdout",
          "output_type": "stream",
          "text": [
            "Oversampling original minority class...\n",
            "         Class  Number of Samples\n",
            "0  negative_c0                 68\n",
            "1  negative_c1                 78\n",
            "2  negative_c2                 10\n",
            "3  negative_c3                 27\n",
            "4  positive_c0                 68\n",
            "Total samples: 251\n",
            "New average number of samples per class: 27.2\n",
            "\n",
            "Showing class distribution bar chart...\n"
          ]
        },
        {
          "data": {
            "image/png": "[encoded data removed]",
            "text/plain": [
              "<Figure size 720x432 with 1 Axes>"
            ]
          },
          "metadata": {
            "needs_background": "light"
          },
          "output_type": "display_data"
        }
      ],
      "source": [
        "## 1. See if the minority is far from the average (larger than the threshold)\n",
        "flag = 0\n",
        "for i,cdclassdist_name in enumerate(cdclassdist_names):\n",
        "    if minority_class == cdclassdist_name.split('_')[0]:\n",
        "        if abs(average-cdclassdist_count[i])>threshold and average>cdclassdist_count[i]:\n",
        "            flag = 1\n",
        "            newmin = cdclassdist_name\n",
        "if flag ==1:            \n",
        "    print('Oversampling original minority class...')\n",
        "    ## 2. Calculate new majority class (closest to the average and larger than the minority) to use as reference for the oversampling\n",
        "    c = np.inf\n",
        "    newmaj = majority_class + '_c0' # gets picked by default if none other accomplishes\n",
        "    for i,j in enumerate(cdclassdist_count):\n",
        "        if abs(j-average)<c and j>average:\n",
        "            c = abs(j-average)\n",
        "            newmaj = cdclassdist_names[i]\n",
        "    ## 3. Create the dataset that only contains the new majority and minority classes\n",
        "    data_majmin = []\n",
        "    target_majmin = []\n",
        "    for m, label in enumerate(target_cd):\n",
        "        if label == newmaj or label == newmin:\n",
        "            data_majmin.append(data[m])\n",
        "            target_majmin.append(label)\n",
        "    if oversampler.lower() == 'smote':\n",
        "        sm = SMOTE()\n",
        "        data_over, target_over = sm.fit_resample(data_majmin, target_majmin) \n",
        "    elif oversampler.lower() == 'adasyn':\n",
        "        ada = ADASYN()\n",
        "        data_over, target_over = ada.fit_resample(data_majmin, target_majmin)\n",
        "    else:\n",
        "        print('Invalid oversampling algorithm.')\n",
        "        sys.exit() \n",
        "    ## 4. combine this with the remaning classes\n",
        "    data_cdsmote = data_over.copy()\n",
        "    target_cdsmote = target_over.copy()\n",
        "    for m, label in enumerate(target_cd):\n",
        "        if label != newmin and label != newmaj:\n",
        "            data_cdsmote.append(data[m])\n",
        "            target_cdsmote.append(label)\n",
        "    \n",
        "    \n",
        "    ## 5. Plot distribution after smote\n",
        "    histo = [['Class','Number of Samples']]\n",
        "    for i, label1 in enumerate(sorted(list(set(target_cdsmote)))):\n",
        "        cont = 0\n",
        "        for j, label2 in enumerate(target_cdsmote):\n",
        "            if label1 == label2:\n",
        "                cont+=1\n",
        "        histo.append([label1,cont])\n",
        "    histo.append(['Total Samples', len(target_cdsmote)])\n",
        "    ## Save the histogram as a .csv file   \n",
        "    with open('results/cdsmotedb_classdistribution.csv', 'w', newline='', encoding='utf-8') as csvfile:\n",
        "        filewriter = csv.writer(csvfile, delimiter=',')\n",
        "        for i, hist in enumerate(histo):\n",
        "            filewriter.writerow(hist)\n",
        "    ## Load as a panda\n",
        "    histo_panda = pd.DataFrame.from_records(histo[1:-1], columns=histo[0])\n",
        "    print(histo_panda)\n",
        "    print('Total samples: '+str(len(target_cdsmote)))\n",
        "    ## Create a histogram using seaborn\n",
        "    sns_plot = sns.barplot(x=\"Class\", y=\"Number of Samples\", data=histo_panda)\n",
        "    ## draw a line depicting the average\n",
        "    indexesUnique = list(set(target_cdsmote))\n",
        "    indexesUnique.sort()\n",
        "    newestclassdist_count = []\n",
        "    for newestclass in indexesUnique:\n",
        "         newestclassdist_count.append(target_over.count(newestclass))\n",
        "    average_new = sum(newestclassdist_count)/len(newestclassdist_count)\n",
        "    print('New average number of samples per class:', average_new)\n",
        "    plt.axhline(average, color='red')\n",
        "    plt.axhline(average_new, color='blue')\n",
        "    ## Save the image\n",
        "    sns_plot.figure.set_size_inches(10, 6)\n",
        "    sns_plot.figure.savefig('results/cdsmotedb_barchart'+'.jpg', orientation = 'landscape', dpi = 600)\n",
        "    print('\\nShowing class distribution bar chart...')\n",
        "    plt.show()\n",
        "\n",
        "else:\n",
        "    data_cdsmote = data.copy()\n",
        "    target_cdsmote = target_cd.copy()\n",
        "    print('Original minority class is close to average. No oversampling needed.')\n"
      ]
    },
    {
      "cell_type": "markdown",
      "metadata": {
        "id": "8o-gTWjbIQ3p"
      },
      "source": [
        "## Save the new dataset in a `.csv` file"
      ]
    },
    {
      "cell_type": "code",
      "execution_count": null,
      "metadata": {
        "id": "oIfGKijuIQ3s"
      },
      "outputs": [],
      "source": [
        "## Save the new dataset\n",
        "with open('results/cdsmotedb.csv', 'w', newline='') as csvfile:\n",
        "    filewriter = csv.writer(csvfile, delimiter=',')\n",
        "    for j, tar in enumerate(target_cdsmote):\n",
        "        row = data_cdsmote[j].copy()\n",
        "        row.append(target_cdsmote[j])\n",
        "        filewriter.writerow(row)"
      ]
    },
    {
      "cell_type": "markdown",
      "metadata": {
        "id": "DX_d6MIAIQ3u"
      },
      "source": [
        "## Classification"
      ]
    },
    {
      "cell_type": "code",
      "execution_count": null,
      "metadata": {
        "scrolled": true,
        "id": "H-VADmdGIQ3w",
        "outputId": "46e81811-950f-4ceb-a867-927cf110c6d6"
      },
      "outputs": [
        {
          "name": "stdout",
          "output_type": "stream",
          "text": [
            "\n",
            "Experiment 1 Original DB...\n",
            "Accuracy Original DB: 0.8852459016393442\n",
            "\n",
            "Experiment 2 Original DB...\n",
            "Accuracy Original DB: 0.9508196721311475\n",
            "\n",
            "Experiment 3 Original DB...\n",
            "Accuracy Original DB: 0.9836065573770492\n",
            "\n",
            "Experiment 4 Original DB...\n",
            "Accuracy Original DB: 0.9508196721311475\n",
            "\n",
            "Experiment 5 Original DB...\n",
            "Accuracy Original DB: 0.9508196721311475\n",
            "\n",
            "Experiment 1 CDSMOTE DB...\n",
            "Accuracy CDSMOTE DB: 0.9473684210526315\n",
            "\n",
            "Experiment 2 CDSMOTE DB...\n",
            "Accuracy CDSMOTE DB: 1.0\n",
            "\n",
            "Experiment 3 CDSMOTE DB...\n",
            "Accuracy CDSMOTE DB: 0.9605263157894737\n",
            "\n",
            "Experiment 4 CDSMOTE DB...\n",
            "Accuracy CDSMOTE DB: 0.9736842105263158\n",
            "\n",
            "Experiment 5 CDSMOTE DB...\n",
            "Accuracy CDSMOTE DB: 0.9736842105263158\n",
            "\n",
            "Final Results:\n",
            "Average Accuracy Original DB: 0.944262295081967\n",
            "Average Accuracy CDSMOTE DB: 0.9710526315789474\n"
          ]
        }
      ],
      "source": [
        "accuracy_o_final = 0\n",
        "accuracy_c_final = 0\n",
        "\n",
        "## Split data/target and data_cdsmote/target_cdsmote (stratified and with many splits)\n",
        "sss = StratifiedShuffleSplit(n_splits=number_of_tests, test_size=0.3, random_state=42)\n",
        "\n",
        "# Original data\n",
        "experiments = 0\n",
        "for train_index, test_index in sss.split(data, target):\n",
        "    print('\\nExperiment '+str(experiments+1)+' Original DB...')\n",
        "    experiments+=1\n",
        "    X_train_o, X_test_o,  = np.asarray(data)[train_index], np.asarray(data)[test_index]\n",
        "    y_train_o, y_test_o = np.asarray(target)[train_index], np.asarray(target)[test_index]\n",
        "    # Train SVM models\n",
        "    clf_o = svm.SVC(kernel='linear')\n",
        "    clf_o.fit(X_train_o, y_train_o)\n",
        "    y_pred_o = clf_o.predict(X_test_o)\n",
        "    # Test \n",
        "    from sklearn import metrics\n",
        "    print(\"Accuracy Original DB:\",metrics.accuracy_score(y_test_o, y_pred_o))\n",
        "    accuracy_o_final = accuracy_o_final + metrics.accuracy_score(y_test_o, y_pred_o)\n",
        "    \n",
        "# CDSMOTE data\n",
        "experiments = 0\n",
        "for train_index, test_index in sss.split(data_cdsmote, target_cdsmote):\n",
        "    print('\\nExperiment '+str(experiments+1)+' CDSMOTE DB...')\n",
        "    experiments+=1\n",
        "    X_train_c, X_test_c,  = np.asarray(data_cdsmote)[train_index], np.asarray(data_cdsmote)[test_index]\n",
        "    y_train_c, y_test_c = np.asarray(target_cdsmote)[train_index], np.asarray(target_cdsmote)[test_index]\n",
        "    # Train SVM models\n",
        "    clf_c = svm.SVC(kernel='linear')\n",
        "    clf_c.fit(X_train_c, y_train_c)\n",
        "    y_pred_c = clf_c.predict(X_test_c)\n",
        "    # Test, making sure accuracy considers sub_classes as good\n",
        "    accuracy_c=0\n",
        "    for i,label in enumerate(y_test_c):\n",
        "        if label.split('_')[0] == y_pred_c[i].split('_')[0]:\n",
        "           accuracy_c+=1\n",
        "    print(\"Accuracy CDSMOTE DB:\",accuracy_c/len(y_pred_c))\n",
        "    accuracy_c_final = accuracy_c_final + accuracy_c/len(y_pred_c)\n",
        "    \n",
        "# Final results\n",
        "print('\\nFinal Results:')\n",
        "print(\"Average Accuracy Original DB:\",accuracy_o_final/experiments)\n",
        "print(\"Average Accuracy CDSMOTE DB:\",accuracy_c_final/experiments)"
      ]
    },
    {
      "cell_type": "markdown",
      "metadata": {
        "id": "W4ji50DAIQ3z"
      },
      "source": [
        "Notice that the accuracy to classify this dataset has increased from 94% to 97%!"
      ]
    }
  ],
  "metadata": {
    "hide_input": false,
    "kernelspec": {
      "display_name": "Python 3",
      "language": "python",
      "name": "python3"
    },
    "language_info": {
      "codemirror_mode": {
        "name": "ipython",
        "version": 3
      },
      "file_extension": ".py",
      "mimetype": "text/x-python",
      "name": "python",
      "nbconvert_exporter": "python",
      "pygments_lexer": "ipython3",
      "version": "3.7.3"
    },
    "varInspector": {
      "cols": {
        "lenName": 16,
        "lenType": 16,
        "lenVar": 40
      },
      "kernels_config": {
        "python": {
          "delete_cmd_postfix": "",
          "delete_cmd_prefix": "del ",
          "library": "var_list.py",
          "varRefreshCmd": "print(var_dic_list())"
        },
        "r": {
          "delete_cmd_postfix": ") ",
          "delete_cmd_prefix": "rm(",
          "library": "var_list.r",
          "varRefreshCmd": "cat(var_dic_list()) "
        }
      },
      "types_to_exclude": [
        "module",
        "function",
        "builtin_function_or_method",
        "instance",
        "_Feature"
      ],
      "window_display": false
    },
    "colab": {
      "provenance": [],
      "include_colab_link": true
    }
  },
  "nbformat": 4,
  "nbformat_minor": 0
}